{
 "cells": [
  {
   "cell_type": "markdown",
   "metadata": {},
   "source": [
    "# Generate random seed games"
   ]
  },
  {
   "cell_type": "code",
   "execution_count": 1,
   "metadata": {},
   "outputs": [],
   "source": [
    "import os\n",
    "from dotenv import load_dotenv\n",
    "load_dotenv()\n",
    "\n",
    "VIRTUAL_HEIGHT = int(os.environ[\"VIRTUAL_HEIGHT\"])\n",
    "VIRTUAL_WIDTH = int(os.environ[\"VIRTUAL_WIDTH\"])\n",
    "MOVE_CODE = {0:\"right\", 1:\"left\", 2:\"up\", 3:\"down\"}"
   ]
  },
  {
   "cell_type": "code",
   "execution_count": 2,
   "metadata": {},
   "outputs": [],
   "source": [
    "import numpy as np\n",
    "import random\n",
    "from typing import List\n",
    "import pickle as pkl\n",
    "\n",
    "def numpy_in_columns(a, b):\n",
    "    \"\"\"\n",
    "    Checks whether a is in the columns of b.\n",
    "    \"\"\"\n",
    "    for row in b:\n",
    "        if (row==a).all():\n",
    "            return True\n",
    "        \n",
    "    return False\n",
    "        \n",
    "class Table:\n",
    "    def __init__(self):\n",
    "        self.table = self.generate_table()\n",
    "        self.food = None\n",
    "        self.snake = None\n",
    "    \n",
    "    @staticmethod\n",
    "    def generate_table():\n",
    "        return np.zeros((VIRTUAL_HEIGHT, VIRTUAL_WIDTH))\n",
    "    \n",
    "    def __repr__(self):\n",
    "        return self.table.__repr__()\n",
    "\n",
    "    def add_food(self):\n",
    "        idxs = np.argwhere(self.table == 0)\n",
    "        idx = random.choices(idxs, k=1)[0]\n",
    "        self.food = Food(idx, self)\n",
    "        self.food.draw()\n",
    "        \n",
    "    def add_snake(self):\n",
    "        idxs = np.argwhere(self.table == 0)\n",
    "        head = random.choices(idxs, k=1)[0]\n",
    "        \n",
    "        possible_tails = [\n",
    "                         [head[0]-1, head[1]],\n",
    "                         [head[0]+1, head[1]],\n",
    "                         [head[0], head[1]+1],\n",
    "                         [head[0], head[1]-1]\n",
    "                        ]\n",
    "        random.shuffle(possible_tails)\n",
    "        \n",
    "        for tail in possible_tails:\n",
    "            if numpy_in_columns(tail, idxs) and tail[0]>0 and tail[1]>0:\n",
    "                break\n",
    "        \n",
    "        body = np.vstack([head, tail])\n",
    "        \n",
    "        self.snake = Snake(body, self)\n",
    "        self.snake.draw_snake()\n",
    "        \n",
    "    def vectorize(self):\n",
    "        return self.table.ravel()\n",
    "    \n",
    "    def save(self, path):\n",
    "        with open(path, \"wb\") as fout:\n",
    "            pkl.dump(self, fout)\n",
    "            \n",
    "    def move_quality(self):\n",
    "        \"\"\"\n",
    "        Return the quality of the moves as an probabilities array [_, _, _, _]\n",
    "        representing the directions. The higher the number, the better the direction.\n",
    "        \"\"\"\n",
    "        result = np.zeros((4,))\n",
    "        values = []\n",
    "        \n",
    "        for idx, move in MOVE_CODE.items():\n",
    "            value = self.snake.check_move(move)\n",
    "            \n",
    "            if value == 1:\n",
    "                result[idx] = 1\n",
    "                return result\n",
    "            \n",
    "            values.append(value)\n",
    "        \n",
    "        values = np.array(values)\n",
    "        \n",
    "        # Convert to probability vector\n",
    "        result[values==0] = 1 / np.sum(values == 0)\n",
    "        \n",
    "        return result\n",
    "\n",
    "class Food:\n",
    "    def __init__(self, body: np.ndarray, table: Table):\n",
    "        self.body = body\n",
    "        self.table = table\n",
    "    \n",
    "    def draw(self):\n",
    "        x, y = self.body[0], self.body[1]\n",
    "        self.table.table[x, y] = 2\n",
    "\n",
    "class Snake:\n",
    "    def __init__(self, body: np.ndarray, table: Table):\n",
    "        self.body = body\n",
    "        self.table = table\n",
    "        \n",
    "    def __repr__(self):\n",
    "        return f\"{self.body}\"\n",
    "    \n",
    "    def move(self, direction: str, return_state: bool = False):    \n",
    "        head = self.body[0]\n",
    "        \n",
    "        if direction == \"right\":\n",
    "            new_head = [head[0], head[1] + 1]\n",
    "        elif direction == \"left\":\n",
    "            new_head = [head[0], head[1] - 1]\n",
    "        elif direction == \"up\":\n",
    "            new_head = [head[0] - 1, head[1]]\n",
    "        elif direction == \"down\":\n",
    "            new_head = [head[0] + 1, head[1]]\n",
    "        \n",
    "        new_head = np.array(new_head)\n",
    "\n",
    "        new_state = self.check_state(new_head)\n",
    "        \n",
    "        if new_state == -1:\n",
    "            print(\"You lost\")\n",
    "        elif new_state == +1:\n",
    "            print(\"Eaten\")\n",
    "            self.body = np.vstack([new_head, self.body])\n",
    "            \n",
    "            self.table.add_food()\n",
    "        else:\n",
    "            self.body = np.vstack([new_head, self.body[:-1]])\n",
    "        \n",
    "        \n",
    "        self.update_snake()\n",
    "        \n",
    "        if return_state:\n",
    "            return new_state\n",
    "        \n",
    "    def check_state(self, head):\n",
    "        table_shape = self.table.table.shape\n",
    "        \n",
    "        # If out the table\n",
    "        if (head[0] < 0) or (head[0] == table_shape[0]) or (head[1] < 0) or (head[1] == table_shape[0]) or numpy_in_columns(head, self.body):\n",
    "            return -1 # Lost game\n",
    "        \n",
    "        food = np.argwhere(self.table.table == 2)[0]\n",
    "        if (head == food).all():\n",
    "            return +1 # Food eaten\n",
    "        \n",
    "        else:\n",
    "            return 0\n",
    "        \n",
    "    def check_move(self, direction):\n",
    "        head = self.body[0]\n",
    "        \n",
    "        if direction == \"right\":\n",
    "            new_head = [head[0], head[1] + 1]\n",
    "        elif direction == \"left\":\n",
    "            new_head = [head[0], head[1] - 1]\n",
    "        elif direction == \"up\":\n",
    "            new_head = [head[0] - 1, head[1]]\n",
    "        elif direction == \"down\":\n",
    "            new_head = [head[0] + 1, head[1]]\n",
    "            \n",
    "        table_shape = self.table.table.shape\n",
    "        \n",
    "        # If out the table\n",
    "        if (new_head[0] < 0) or (new_head[0] == table_shape[0]) or (new_head[1] < 0) or (new_head[1] == table_shape[0]) or numpy_in_columns(new_head, self.body):\n",
    "            return -1 # Lost game\n",
    "        \n",
    "        food = np.argwhere(self.table.table == 2)[0]\n",
    "        if (new_head == food).all():\n",
    "            return +1 # Food eaten\n",
    "        \n",
    "        else:\n",
    "            return 0\n",
    "        \n",
    "    def draw_snake(self):\n",
    "        # Head\n",
    "        self.table.table[self.body[0][0], self.body[0][1]] = 3\n",
    "        \n",
    "        # Rest of the body\n",
    "        for x, y in self.body[1:]:\n",
    "            self.table.table[x, y] = 1\n",
    "            \n",
    "    def update_snake(self):\n",
    "        self.table.table[self.table.table == 1] = 0\n",
    "        self.draw_snake()"
   ]
  },
  {
   "cell_type": "markdown",
   "metadata": {},
   "source": [
    "## Play with it"
   ]
  },
  {
   "cell_type": "code",
   "execution_count": 3,
   "metadata": {},
   "outputs": [
    {
     "name": "stdout",
     "output_type": "stream",
     "text": [
      "array([[0., 0., 0., 0., 0., 0., 0., 0., 0., 0., 0., 0., 0., 2., 0., 0.],\n",
      "       [0., 0., 0., 0., 0., 0., 0., 0., 0., 0., 0., 0., 0., 0., 0., 0.],\n",
      "       [0., 0., 0., 0., 0., 0., 0., 0., 0., 0., 0., 0., 0., 0., 0., 0.],\n",
      "       [0., 0., 0., 0., 0., 0., 0., 3., 0., 0., 0., 0., 0., 0., 0., 0.],\n",
      "       [0., 0., 0., 0., 0., 0., 0., 1., 0., 0., 0., 0., 0., 0., 0., 0.],\n",
      "       [0., 0., 0., 0., 0., 0., 0., 0., 0., 0., 0., 0., 0., 0., 0., 0.],\n",
      "       [0., 0., 0., 0., 0., 0., 0., 0., 0., 0., 0., 0., 0., 0., 0., 0.],\n",
      "       [0., 0., 0., 0., 0., 0., 0., 0., 0., 0., 0., 0., 0., 0., 0., 0.],\n",
      "       [0., 0., 0., 0., 0., 0., 0., 0., 0., 0., 0., 0., 0., 0., 0., 0.],\n",
      "       [0., 0., 0., 0., 0., 0., 0., 0., 0., 0., 0., 0., 0., 0., 0., 0.],\n",
      "       [0., 0., 0., 0., 0., 0., 0., 0., 0., 0., 0., 0., 0., 0., 0., 0.],\n",
      "       [0., 0., 0., 0., 0., 0., 0., 0., 0., 0., 0., 0., 0., 0., 0., 0.],\n",
      "       [0., 0., 0., 0., 0., 0., 0., 0., 0., 0., 0., 0., 0., 0., 0., 0.],\n",
      "       [0., 0., 0., 0., 0., 0., 0., 0., 0., 0., 0., 0., 0., 0., 0., 0.],\n",
      "       [0., 0., 0., 0., 0., 0., 0., 0., 0., 0., 0., 0., 0., 0., 0., 0.],\n",
      "       [0., 0., 0., 0., 0., 0., 0., 0., 0., 0., 0., 0., 0., 0., 0., 0.]])\n"
     ]
    }
   ],
   "source": [
    "def generate_game():\n",
    "    table = Table()\n",
    "    table.add_food()\n",
    "    table.add_snake()\n",
    "    return table\n",
    "\n",
    "table = generate_game()\n",
    "print(table)"
   ]
  },
  {
   "cell_type": "code",
   "execution_count": 4,
   "metadata": {},
   "outputs": [],
   "source": [
    "table.snake.move(\"right\")"
   ]
  },
  {
   "cell_type": "code",
   "execution_count": 5,
   "metadata": {},
   "outputs": [
    {
     "name": "stdout",
     "output_type": "stream",
     "text": [
      "You lost\n"
     ]
    },
    {
     "data": {
      "text/plain": [
       "-1"
      ]
     },
     "execution_count": 5,
     "metadata": {},
     "output_type": "execute_result"
    }
   ],
   "source": [
    "table.snake.move(\"left\", return_state=True)"
   ]
  },
  {
   "cell_type": "code",
   "execution_count": 6,
   "metadata": {},
   "outputs": [],
   "source": [
    "table.snake.move(\"up\")"
   ]
  },
  {
   "cell_type": "code",
   "execution_count": 7,
   "metadata": {},
   "outputs": [
    {
     "name": "stdout",
     "output_type": "stream",
     "text": [
      "You lost\n"
     ]
    }
   ],
   "source": [
    "table.snake.move(\"down\")"
   ]
  },
  {
   "cell_type": "code",
   "execution_count": 8,
   "metadata": {},
   "outputs": [
    {
     "data": {
      "text/plain": [
       "array([0.33333333, 0.33333333, 0.33333333, 0.        ])"
      ]
     },
     "execution_count": 8,
     "metadata": {},
     "output_type": "execute_result"
    }
   ],
   "source": [
    "table.move_quality()"
   ]
  },
  {
   "cell_type": "code",
   "execution_count": 9,
   "metadata": {},
   "outputs": [
    {
     "name": "stdout",
     "output_type": "stream",
     "text": [
      "array([[0., 0., 0., 0., 0., 0., 0., 0., 0., 0., 0., 0., 0., 2., 0., 0.],\n",
      "       [0., 0., 0., 0., 0., 0., 0., 0., 0., 0., 0., 0., 0., 0., 0., 0.],\n",
      "       [0., 0., 0., 0., 0., 0., 0., 0., 3., 0., 0., 0., 0., 0., 0., 0.],\n",
      "       [0., 0., 0., 0., 0., 0., 0., 0., 1., 0., 0., 0., 0., 0., 0., 0.],\n",
      "       [0., 0., 0., 0., 0., 0., 0., 0., 0., 0., 0., 0., 0., 0., 0., 0.],\n",
      "       [0., 0., 0., 0., 0., 0., 0., 0., 0., 0., 0., 0., 0., 0., 0., 0.],\n",
      "       [0., 0., 0., 0., 0., 0., 0., 0., 0., 0., 0., 0., 0., 0., 0., 0.],\n",
      "       [0., 0., 0., 0., 0., 0., 0., 0., 0., 0., 0., 0., 0., 0., 0., 0.],\n",
      "       [0., 0., 0., 0., 0., 0., 0., 0., 0., 0., 0., 0., 0., 0., 0., 0.],\n",
      "       [0., 0., 0., 0., 0., 0., 0., 0., 0., 0., 0., 0., 0., 0., 0., 0.],\n",
      "       [0., 0., 0., 0., 0., 0., 0., 0., 0., 0., 0., 0., 0., 0., 0., 0.],\n",
      "       [0., 0., 0., 0., 0., 0., 0., 0., 0., 0., 0., 0., 0., 0., 0., 0.],\n",
      "       [0., 0., 0., 0., 0., 0., 0., 0., 0., 0., 0., 0., 0., 0., 0., 0.],\n",
      "       [0., 0., 0., 0., 0., 0., 0., 0., 0., 0., 0., 0., 0., 0., 0., 0.],\n",
      "       [0., 0., 0., 0., 0., 0., 0., 0., 0., 0., 0., 0., 0., 0., 0., 0.],\n",
      "       [0., 0., 0., 0., 0., 0., 0., 0., 0., 0., 0., 0., 0., 0., 0., 0.]])\n"
     ]
    }
   ],
   "source": [
    "print(table)"
   ]
  },
  {
   "cell_type": "markdown",
   "metadata": {},
   "source": [
    "## Generate random starting games"
   ]
  },
  {
   "cell_type": "code",
   "execution_count": 10,
   "metadata": {},
   "outputs": [],
   "source": [
    "n_games = 500\n",
    "\n",
    "for i in range(n_games):\n",
    "    table = generate_game()\n",
    "    table.save(f\"dataset_{VIRTUAL_HEIGHT}x{VIRTUAL_WIDTH}/game_{i}.data\")"
   ]
  }
 ],
 "metadata": {
  "kernelspec": {
   "display_name": "Python 3",
   "language": "python",
   "name": "python3"
  },
  "language_info": {
   "codemirror_mode": {
    "name": "ipython",
    "version": 3
   },
   "file_extension": ".py",
   "mimetype": "text/x-python",
   "name": "python",
   "nbconvert_exporter": "python",
   "pygments_lexer": "ipython3",
   "version": "3.8.6rc1"
  }
 },
 "nbformat": 4,
 "nbformat_minor": 4
}
