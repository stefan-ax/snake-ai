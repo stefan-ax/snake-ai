{
 "cells": [
  {
   "cell_type": "markdown",
   "metadata": {},
   "source": [
    "# Generate random seed games"
   ]
  },
  {
   "cell_type": "code",
   "execution_count": 1,
   "metadata": {},
   "outputs": [],
   "source": [
    "import os\n",
    "\n",
    "VIRTUAL_HEIGHT = 6 # os.environ[\"VIRTUAL_HEIGHT\"]\n",
    "VIRTUAL_WIDTH = 6 # os.environ[\"VIRTUAL_WIDTH\"]"
   ]
  },
  {
   "cell_type": "code",
   "execution_count": 79,
   "metadata": {},
   "outputs": [],
   "source": [
    "import numpy as np\n",
    "import random\n",
    "from typing import List\n",
    "\n",
    "class Table:\n",
    "    def __init__(self):\n",
    "        self.table = self.generate_table()\n",
    "    \n",
    "    @staticmethod\n",
    "    def generate_table():\n",
    "        return np.zeros((VIRTUAL_HEIGHT, VIRTUAL_WIDTH))\n",
    "    \n",
    "    def __repr__(self):\n",
    "        return self.table.__repr__()\n",
    "\n",
    "    def add_food(self):\n",
    "        idxs = np.argwhere(self.table == 0)\n",
    "        idx = random.choices(idxs, k=1)[0]\n",
    "        self.table[idx[0], idx[1]] = 3\n",
    "        \n",
    "    def add_snake(self):\n",
    "        idxs = np.argwhere(self.table == 0)\n",
    "        head = random.choices(idxs, k=1)[0]\n",
    "        \n",
    "        \n",
    "        possible_tails = [\n",
    "                         [head[0]-1, head[1]],\n",
    "                         [head[0]+1, head[1]],\n",
    "                         [head[0], head[1]+1],\n",
    "                         [head[0], head[1]-1]\n",
    "                        ]\n",
    "        \n",
    "        for tail in possible_tails:\n",
    "            if tail not in idxs:\n",
    "                break\n",
    "        \n",
    "        body = np.vstack([head, tail])\n",
    "        \n",
    "        self.snake = Snake(body, self.table)\n",
    "        self.snake.draw_snake()\n",
    "        \n",
    "    def vectorize(self):\n",
    "        return self.table.ravel()\n",
    "\n",
    "class Snake:\n",
    "    def __init__(self, body: np.ndarray, table: Table):\n",
    "        self.body = body\n",
    "        self.table = table\n",
    "        \n",
    "    def __repr__(self):\n",
    "        return f\"{self.body}\"\n",
    "    \n",
    "    def move(self, direction: str):\n",
    "        self.clear_snake()\n",
    "        \n",
    "        head = self.body[0]\n",
    "        \n",
    "        if direction == \"right\":\n",
    "            new_head = [head[0] + 1, head[1]]\n",
    "        \n",
    "        self.body = np.vstack([new_head, self.body[:-1]])\n",
    "        \n",
    "        self.draw_snake()\n",
    "        \n",
    "    def draw_snake(self):\n",
    "        for x, y in self.body:\n",
    "            self.table[x, y] = 1\n",
    "            \n",
    "    def clear_snake(self):\n",
    "        for x, y in self.body:\n",
    "            self.table[x, y] = 0\n",
    "            \n",
    "    def update_snake(self):\n",
    "        self.clear_snake()\n",
    "        self.draw_snake()"
   ]
  },
  {
   "cell_type": "code",
   "execution_count": 80,
   "metadata": {},
   "outputs": [],
   "source": [
    "table = Table()"
   ]
  },
  {
   "cell_type": "code",
   "execution_count": 4,
   "metadata": {},
   "outputs": [],
   "source": [
    "table.add_food()"
   ]
  },
  {
   "cell_type": "code",
   "execution_count": 81,
   "metadata": {},
   "outputs": [],
   "source": [
    "table.add_snake()"
   ]
  },
  {
   "cell_type": "code",
   "execution_count": 85,
   "metadata": {},
   "outputs": [],
   "source": [
    "table.snake.move(\"right\")"
   ]
  },
  {
   "cell_type": "code",
   "execution_count": 77,
   "metadata": {},
   "outputs": [],
   "source": [
    "table.snake.update_snake()"
   ]
  },
  {
   "cell_type": "code",
   "execution_count": 86,
   "metadata": {},
   "outputs": [
    {
     "name": "stdout",
     "output_type": "stream",
     "text": [
      "array([[0., 0., 0., 0., 0., 0.],\n",
      "       [0., 0., 0., 0., 0., 0.],\n",
      "       [0., 0., 0., 0., 0., 0.],\n",
      "       [0., 0., 0., 0., 0., 0.],\n",
      "       [0., 0., 0., 1., 0., 0.],\n",
      "       [0., 0., 0., 1., 0., 0.]])\n"
     ]
    }
   ],
   "source": [
    "print(table)"
   ]
  },
  {
   "cell_type": "code",
   "execution_count": null,
   "metadata": {},
   "outputs": [],
   "source": []
  },
  {
   "cell_type": "code",
   "execution_count": 197,
   "metadata": {},
   "outputs": [
    {
     "data": {
      "text/plain": [
       "array([0., 0., 0., 0., 1., 2., 0., 1., 2., 0., 0., 0., 0., 3., 0., 0., 0.,\n",
       "       0., 0., 0., 0., 0., 0., 0., 0., 0., 0., 0., 0., 0., 0., 0., 0., 0.,\n",
       "       0., 0.])"
      ]
     },
     "execution_count": 197,
     "metadata": {},
     "output_type": "execute_result"
    }
   ],
   "source": [
    "table.vectorize()"
   ]
  }
 ],
 "metadata": {
  "kernelspec": {
   "display_name": "Python 3",
   "language": "python",
   "name": "python3"
  },
  "language_info": {
   "codemirror_mode": {
    "name": "ipython",
    "version": 3
   },
   "file_extension": ".py",
   "mimetype": "text/x-python",
   "name": "python",
   "nbconvert_exporter": "python",
   "pygments_lexer": "ipython3",
   "version": "3.8.6rc1"
  }
 },
 "nbformat": 4,
 "nbformat_minor": 4
}
