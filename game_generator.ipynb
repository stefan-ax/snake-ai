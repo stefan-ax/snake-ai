{
 "cells": [
  {
   "cell_type": "markdown",
   "metadata": {},
   "source": [
    "# Generate random seed games"
   ]
  },
  {
   "cell_type": "code",
   "execution_count": 70,
   "metadata": {},
   "outputs": [],
   "source": [
    "TABLE_HEIGHT = 6\n",
    "TABLE_WIDTH = 6"
   ]
  },
  {
   "cell_type": "code",
   "execution_count": 188,
   "metadata": {},
   "outputs": [],
   "source": [
    "import numpy as np\n",
    "import random\n",
    "\n",
    "class Table:\n",
    "    def __init__(self):\n",
    "        self.table = self.generate_table()\n",
    "    \n",
    "    @staticmethod\n",
    "    def generate_table():\n",
    "        return np.zeros((TABLE_HEIGHT, TABLE_WIDTH))\n",
    "    \n",
    "    def __repr__(self):\n",
    "        return self.table.__repr__()\n",
    "\n",
    "    def add_food(self):\n",
    "        idxs = np.argwhere(self.table == 0)\n",
    "        idx = random.choices(idxs, k=1)[0]\n",
    "        self.table[idx[0], idx[1]] = 3\n",
    "        \n",
    "    def add_snake(self):\n",
    "        idxs = np.argwhere(self.table == 0)\n",
    "        head = random.choices(idxs, k=1)[0]\n",
    "        self.table[head[0], head[1]] = 2\n",
    "        \n",
    "        possible_tails = [\n",
    "                         [head[0]-1, head[1]],\n",
    "                         [head[0]+1, head[1]],\n",
    "                         [head[0], head[1]+1],\n",
    "                         [head[0], head[1]-1]\n",
    "                        ]\n",
    "        \n",
    "        for tail in possible_tails:\n",
    "            if tail not in idxs:\n",
    "                break\n",
    "        \n",
    "        self.table[tail[0], tail[1]] = 1\n",
    "        \n",
    "    def vectorize(self):\n",
    "        return self.table.ravel()\n",
    "    "
   ]
  },
  {
   "cell_type": "code",
   "execution_count": 187,
   "metadata": {},
   "outputs": [],
   "source": [
    "table = Table()"
   ]
  },
  {
   "cell_type": "code",
   "execution_count": 195,
   "metadata": {},
   "outputs": [],
   "source": [
    "table.add_food()"
   ]
  },
  {
   "cell_type": "code",
   "execution_count": 193,
   "metadata": {},
   "outputs": [],
   "source": [
    "table.add_snake()"
   ]
  },
  {
   "cell_type": "code",
   "execution_count": 196,
   "metadata": {},
   "outputs": [
    {
     "name": "stdout",
     "output_type": "stream",
     "text": [
      "array([[0., 0., 0., 0., 1., 2.],\n",
      "       [0., 1., 2., 0., 0., 0.],\n",
      "       [0., 3., 0., 0., 0., 0.],\n",
      "       [0., 0., 0., 0., 0., 0.],\n",
      "       [0., 0., 0., 0., 0., 0.],\n",
      "       [0., 0., 0., 0., 0., 0.]])\n"
     ]
    }
   ],
   "source": [
    "print(table)"
   ]
  },
  {
   "cell_type": "code",
   "execution_count": 197,
   "metadata": {},
   "outputs": [
    {
     "data": {
      "text/plain": [
       "array([0., 0., 0., 0., 1., 2., 0., 1., 2., 0., 0., 0., 0., 3., 0., 0., 0.,\n",
       "       0., 0., 0., 0., 0., 0., 0., 0., 0., 0., 0., 0., 0., 0., 0., 0., 0.,\n",
       "       0., 0.])"
      ]
     },
     "execution_count": 197,
     "metadata": {},
     "output_type": "execute_result"
    }
   ],
   "source": [
    "table.vectorize()"
   ]
  }
 ],
 "metadata": {
  "kernelspec": {
   "display_name": "Python 3",
   "language": "python",
   "name": "python3"
  },
  "language_info": {
   "codemirror_mode": {
    "name": "ipython",
    "version": 3
   },
   "file_extension": ".py",
   "mimetype": "text/x-python",
   "name": "python",
   "nbconvert_exporter": "python",
   "pygments_lexer": "ipython3",
   "version": "3.8.6rc1"
  }
 },
 "nbformat": 4,
 "nbformat_minor": 4
}
