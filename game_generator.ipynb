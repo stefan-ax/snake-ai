{
 "cells": [
  {
   "cell_type": "markdown",
   "metadata": {},
   "source": [
    "# Generate random seed games"
   ]
  },
  {
   "cell_type": "code",
   "execution_count": 4,
   "metadata": {},
   "outputs": [],
   "source": [
    "import os\n",
    "\n",
    "VIRTUAL_HEIGHT = 6 # os.environ[\"VIRTUAL_HEIGHT\"]\n",
    "VIRTUAL_WIDTH = 6 # os.environ[\"VIRTUAL_WIDTH\"]"
   ]
  },
  {
   "cell_type": "code",
   "execution_count": 100,
   "metadata": {},
   "outputs": [],
   "source": [
    "import numpy as np\n",
    "import random\n",
    "from typing import List\n",
    "import pickle as pkl\n",
    "\n",
    "class Table:\n",
    "    def __init__(self):\n",
    "        self.table = self.generate_table()\n",
    "        self.food = None\n",
    "        self.snake = None\n",
    "    \n",
    "    @staticmethod\n",
    "    def generate_table():\n",
    "        return np.zeros((VIRTUAL_HEIGHT, VIRTUAL_WIDTH))\n",
    "    \n",
    "    def __repr__(self):\n",
    "        return self.table.__repr__()\n",
    "\n",
    "    def add_food(self):\n",
    "        idxs = np.argwhere(self.table == 0)\n",
    "        idx = random.choices(idxs, k=1)[0]\n",
    "        self.food = Food(idx, self)\n",
    "        self.food.draw()\n",
    "        \n",
    "    def add_snake(self):\n",
    "        idxs = np.argwhere(self.table == 0)\n",
    "        head = random.choices(idxs, k=1)[0]\n",
    "        \n",
    "        possible_tails = [\n",
    "                         [head[0]-1, head[1]],\n",
    "                         [head[0]+1, head[1]],\n",
    "                         [head[0], head[1]+1],\n",
    "                         [head[0], head[1]-1]\n",
    "                        ]\n",
    "        \n",
    "        for tail in possible_tails:\n",
    "            if tail not in idxs and tail[0]>0 and tail[1]>0:\n",
    "                break\n",
    "        \n",
    "        body = np.vstack([head, tail])\n",
    "        \n",
    "        self.snake = Snake(body, self)\n",
    "        self.snake.draw_snake()\n",
    "        \n",
    "    def vectorize(self):\n",
    "        return self.table.ravel()\n",
    "    \n",
    "    def save(self, path):\n",
    "        with open(path, \"wb\") as fout:\n",
    "            pkl.dump(self, fout)\n",
    "    \n",
    "class Food:\n",
    "    def __init__(self, body: np.ndarray, table: Table):\n",
    "        self.body = body\n",
    "        self.table = table\n",
    "    \n",
    "    def draw(self):\n",
    "        x, y = self.body[0], self.body[1]\n",
    "        self.table.table[x, y] = 2\n",
    "\n",
    "class Snake:\n",
    "    def __init__(self, body: np.ndarray, table: Table):\n",
    "        self.body = body\n",
    "        self.table = table\n",
    "        \n",
    "    def __repr__(self):\n",
    "        return f\"{self.body}\"\n",
    "    \n",
    "    def move(self, direction: str, return_state: bool = False):    \n",
    "        head = self.body[0]\n",
    "        \n",
    "        if direction == \"right\":\n",
    "            new_head = [head[0], head[1] + 1]\n",
    "        elif direction == \"left\":\n",
    "            new_head = [head[0], head[1] - 1]\n",
    "        elif direction == \"up\":\n",
    "            new_head = [head[0] - 1, head[1]]\n",
    "        elif direction == \"down\":\n",
    "            new_head = [head[0] + 1, head[1]]\n",
    "        \n",
    "        new_head = np.array(new_head)\n",
    "\n",
    "        new_state = self.check_state(new_head)\n",
    "        \n",
    "        if new_state == -1:\n",
    "            print(\"You lost\")\n",
    "        elif new_state == +1:\n",
    "            print(\"Eaten\")\n",
    "            self.body = np.vstack([new_head, self.body])\n",
    "            \n",
    "            self.table.add_food()\n",
    "        else:\n",
    "            self.body = np.vstack([new_head, self.body[:-1]])\n",
    "        \n",
    "        \n",
    "        self.update_snake()\n",
    "        \n",
    "        if return_state:\n",
    "            return new_state\n",
    "        \n",
    "    def check_state(self, head):\n",
    "        table_shape = self.table.table.shape\n",
    "        \n",
    "        # \n",
    "        if (head[0] < 0) or (head[0] == table_shape[0]) or (head[1] < 0) or (head[1] == table_shape[0]):\n",
    "            return -1 # Lost game\n",
    "        \n",
    "        food = np.argwhere(self.table.table == 2)[0]\n",
    "        if (head == food).all():\n",
    "            return +1 # Food eaten\n",
    "        \n",
    "        else:\n",
    "            return 0\n",
    "        \n",
    "    def draw_snake(self):\n",
    "        for x, y in self.body:\n",
    "            self.table.table[x, y] = 1\n",
    "            \n",
    "    def update_snake(self):\n",
    "        self.table.table[self.table.table == 1] = 0\n",
    "        self.draw_snake()"
   ]
  },
  {
   "cell_type": "markdown",
   "metadata": {},
   "source": [
    "## Play with it"
   ]
  },
  {
   "cell_type": "code",
   "execution_count": 105,
   "metadata": {},
   "outputs": [],
   "source": [
    "def generate_game():\n",
    "    table = Table()\n",
    "    table.add_food()\n",
    "    table.add_snake()\n",
    "    return table\n",
    "\n",
    "table = generate_game()"
   ]
  },
  {
   "cell_type": "code",
   "execution_count": 110,
   "metadata": {},
   "outputs": [
    {
     "name": "stdout",
     "output_type": "stream",
     "text": [
      "Eaten\n"
     ]
    }
   ],
   "source": [
    "table.snake.move(\"up\")"
   ]
  },
  {
   "cell_type": "code",
   "execution_count": 113,
   "metadata": {},
   "outputs": [],
   "source": [
    "table.snake.move(\"left\")"
   ]
  },
  {
   "cell_type": "code",
   "execution_count": 108,
   "metadata": {},
   "outputs": [],
   "source": [
    "table.snake.move(\"right\")"
   ]
  },
  {
   "cell_type": "code",
   "execution_count": 119,
   "metadata": {},
   "outputs": [
    {
     "name": "stdout",
     "output_type": "stream",
     "text": [
      "Eaten\n"
     ]
    }
   ],
   "source": [
    "table.snake.move(\"down\")"
   ]
  },
  {
   "cell_type": "code",
   "execution_count": 120,
   "metadata": {},
   "outputs": [
    {
     "name": "stdout",
     "output_type": "stream",
     "text": [
      "array([[0., 0., 1., 0., 0., 0.],\n",
      "       [0., 0., 1., 0., 0., 0.],\n",
      "       [0., 0., 1., 0., 2., 0.],\n",
      "       [0., 0., 1., 0., 0., 0.],\n",
      "       [0., 0., 1., 0., 0., 0.],\n",
      "       [0., 0., 0., 0., 0., 0.]])\n"
     ]
    }
   ],
   "source": [
    "print(table)"
   ]
  },
  {
   "cell_type": "markdown",
   "metadata": {},
   "source": [
    "## Generate random starting games"
   ]
  },
  {
   "cell_type": "code",
   "execution_count": 104,
   "metadata": {},
   "outputs": [],
   "source": [
    "n_games = 100\n",
    "\n",
    "for i in range(n_games):\n",
    "    table = generate_game()\n",
    "    table.save(f\"dataset/game_{i}.data\")"
   ]
  }
 ],
 "metadata": {
  "kernelspec": {
   "display_name": "Python 3",
   "language": "python",
   "name": "python3"
  },
  "language_info": {
   "codemirror_mode": {
    "name": "ipython",
    "version": 3
   },
   "file_extension": ".py",
   "mimetype": "text/x-python",
   "name": "python",
   "nbconvert_exporter": "python",
   "pygments_lexer": "ipython3",
   "version": "3.8.6rc1"
  }
 },
 "nbformat": 4,
 "nbformat_minor": 4
}
