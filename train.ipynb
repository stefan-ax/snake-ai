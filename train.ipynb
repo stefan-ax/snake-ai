{
 "cells": [
  {
   "cell_type": "code",
   "execution_count": 1,
   "metadata": {},
   "outputs": [],
   "source": [
    "import tensorflow as tf\n",
    "import keras\n",
    "import keras.backend as K\n",
    "from keras.layers import Dense, Dropout, Input\n",
    "from keras.models import Sequential"
   ]
  },
  {
   "cell_type": "code",
   "execution_count": 2,
   "metadata": {},
   "outputs": [],
   "source": [
    "import os\n",
    "from dotenv import load_dotenv\n",
    "\n",
    "load_dotenv()\n",
    "VIRTUAL_HEIGHT = int(os.environ[\"VIRTUAL_HEIGHT\"])\n",
    "VIRTUAL_WIDTH = int(os.environ[\"VIRTUAL_WIDTH\"])\n",
    "DIM = VIRTUAL_WIDTH * VIRTUAL_HEIGHT\n",
    "BATCH_SIZE = 64\n",
    "MOVE_CODE = {0:\"right\", 1:\"left\", 2:\"up\", 3:\"down\"}"
   ]
  },
  {
   "cell_type": "markdown",
   "metadata": {},
   "source": [
    "## Data stuff"
   ]
  },
  {
   "cell_type": "code",
   "execution_count": 4,
   "metadata": {},
   "outputs": [
    {
     "name": "stdout",
     "output_type": "stream",
     "text": [
      "Loaded 500 games\n"
     ]
    }
   ],
   "source": [
    "from glob import glob\n",
    "from objects import Table, Food, Snake\n",
    "import pickle as pkl\n",
    "def load_dataset(folder_path=f\"dataset_{VIRTUAL_HEIGHT}x{VIRTUAL_WIDTH}\", maximum=None):\n",
    "    paths = glob(folder_path + \"/*\")\n",
    "\n",
    "    games = []\n",
    "    for path in paths[:maximum if maximum else len(paths)]:\n",
    "        with open(path, \"rb\") as fin:\n",
    "            table = pkl.load(fin)\n",
    "            games.append(table)\n",
    "            \n",
    "    return games\n",
    "\n",
    "init_games = load_dataset(maximum=None)\n",
    "print(f\"Loaded {len(init_games)} games\")"
   ]
  },
  {
   "cell_type": "code",
   "execution_count": 11,
   "metadata": {},
   "outputs": [
    {
     "name": "stdout",
     "output_type": "stream",
     "text": [
      "array([[0., 0., 0., 0., 0., 0., 0., 0., 0., 0., 0., 0., 0., 0., 0., 0.],\n",
      "       [0., 0., 0., 0., 0., 0., 0., 0., 0., 0., 0., 0., 0., 0., 0., 0.],\n",
      "       [0., 0., 1., 3., 0., 0., 0., 0., 0., 0., 0., 0., 0., 0., 0., 0.],\n",
      "       [0., 0., 0., 0., 0., 0., 0., 0., 0., 0., 0., 0., 0., 0., 0., 0.],\n",
      "       [0., 0., 0., 0., 0., 0., 0., 0., 0., 0., 0., 0., 0., 0., 0., 0.],\n",
      "       [0., 0., 0., 0., 0., 0., 0., 0., 0., 0., 0., 0., 0., 0., 0., 0.],\n",
      "       [0., 0., 0., 0., 0., 0., 0., 0., 0., 0., 0., 0., 0., 0., 0., 0.],\n",
      "       [0., 0., 0., 0., 0., 0., 0., 0., 0., 0., 0., 0., 0., 0., 0., 0.],\n",
      "       [0., 0., 0., 0., 0., 0., 0., 0., 0., 0., 0., 0., 0., 0., 0., 0.],\n",
      "       [0., 0., 0., 0., 0., 0., 0., 0., 0., 0., 0., 0., 0., 0., 0., 0.],\n",
      "       [0., 2., 0., 0., 0., 0., 0., 0., 0., 0., 0., 0., 0., 0., 0., 0.],\n",
      "       [0., 0., 0., 0., 0., 0., 0., 0., 0., 0., 0., 0., 0., 0., 0., 0.],\n",
      "       [0., 0., 0., 0., 0., 0., 0., 0., 0., 0., 0., 0., 0., 0., 0., 0.],\n",
      "       [0., 0., 0., 0., 0., 0., 0., 0., 0., 0., 0., 0., 0., 0., 0., 0.],\n",
      "       [0., 0., 0., 0., 0., 0., 0., 0., 0., 0., 0., 0., 0., 0., 0., 0.],\n",
      "       [0., 0., 0., 0., 0., 0., 0., 0., 0., 0., 0., 0., 0., 0., 0., 0.]])\n"
     ]
    }
   ],
   "source": [
    "print(init_games[99])"
   ]
  },
  {
   "cell_type": "code",
   "execution_count": 15,
   "metadata": {},
   "outputs": [],
   "source": [
    "game = feeder.games[0]"
   ]
  },
  {
   "cell_type": "code",
   "execution_count": 16,
   "metadata": {},
   "outputs": [
    {
     "data": {
      "text/plain": [
       "2.0"
      ]
     },
     "execution_count": 16,
     "metadata": {},
     "output_type": "execute_result"
    }
   ],
   "source": [
    "np.sum(game.table[game.table==1])+1"
   ]
  },
  {
   "cell_type": "code",
   "execution_count": 18,
   "metadata": {},
   "outputs": [
    {
     "data": {
      "text/plain": [
       "64"
      ]
     },
     "execution_count": 18,
     "metadata": {},
     "output_type": "execute_result"
    }
   ],
   "source": [
    "len(feeder.games)"
   ]
  },
  {
   "cell_type": "markdown",
   "metadata": {},
   "source": [
    "## Train feeder"
   ]
  },
  {
   "cell_type": "code",
   "execution_count": 8,
   "metadata": {},
   "outputs": [],
   "source": [
    "import random\n",
    "import numpy as np\n",
    "\n",
    "class TrainFeeder:\n",
    "    def __init__(self, init_games, n=BATCH_SIZE):\n",
    "#         assert len(init_games) >= n\n",
    "        self.init_games = init_games\n",
    "        self.games = random.choices(self.init_games, k=n)\n",
    "    \n",
    "    @property\n",
    "    def feed(self):\n",
    "        while True:\n",
    "            vectors = [game.table.ravel().reshape(1, -1) for game in self.games]\n",
    "            for idx, vector in enumerate(vectors):\n",
    "                yield vector, self.games[idx].move_quality().reshape(1, -1), np.array(idx)\n",
    "    \n",
    "    def apply_moves(self, directions: list):\n",
    "        results = []\n",
    "        for idx, direction in enumerate(directions):\n",
    "            result = self.games[idx].snake.move(direction, return_state=True)\n",
    "            results.append(result)\n",
    "            \n",
    "            if result == -1:\n",
    "                # Reset the game\n",
    "                self.games[idx] = random.choice(self.init_games)\n",
    "            \n",
    "        return np.array(results)\n",
    "    \n",
    "    def apply_move(self, direction, idx):\n",
    "        result = self.games[idx].snake.move(direction, return_state=True)\n",
    "        \n",
    "        if result == -1:\n",
    "            # Reset the game\n",
    "            self.games[idx] = random.choice(self.init_games)\n",
    "            \n",
    "        return result\n",
    "    \n",
    "    def length_mean(self):\n",
    "        # Sum the body + head of the snake. Body is annotated with 1 and head with 3\n",
    "        length = [np.sum(game.table[game.table==1])+1 for game in self.games]\n",
    "        return np.mean(length)\n",
    "    \n",
    "feeder = TrainFeeder(init_games=init_games)"
   ]
  },
  {
   "cell_type": "markdown",
   "metadata": {},
   "source": [
    "## Model"
   ]
  },
  {
   "cell_type": "code",
   "execution_count": 5,
   "metadata": {},
   "outputs": [],
   "source": [
    "score_metric = keras.metrics.Mean(name=\"score\")\n",
    "cce_loss = keras.losses.CategoricalCrossentropy()\n",
    "\n",
    "class SnakeModel(keras.Sequential):\n",
    "    def train_step(self, data):\n",
    "        x, y_true, idx = data\n",
    "        \n",
    "        with tf.GradientTape() as tape:\n",
    "            y_pred = self(x, training=True) # Forward pass\n",
    "            \n",
    "            # Compute loss\n",
    "            loss = cce_loss(y_true, y_pred)\n",
    "        \n",
    "        # Move \n",
    "        global feeder\n",
    "        predicted_direction = MOVE_CODE[y_pred.numpy().argmax()]\n",
    "        score = feeder.apply_move(predicted_direction, int(idx))\n",
    "        \n",
    "        # Compute gradients and update weights\n",
    "        trainable_vars = self.trainable_variables\n",
    "        gradients = tape.gradient(loss, trainable_vars)\n",
    "        self.optimizer.apply_gradients(zip(gradients, trainable_vars))\n",
    "        \n",
    "        # Compute the metric score here\n",
    "        score_metric.update_state(loss)\n",
    "        \n",
    "        return {\"mean_score\": score_metric.result(), \"mean_length\": feeder.length_mean()}\n",
    "    \n",
    "    @property\n",
    "    def metrics(self):\n",
    "        return [score_metric]\n",
    "\n",
    "model = SnakeModel()\n",
    "model.add(Input(shape=(DIM, )))\n",
    "model.add(Dense(DIM, activation=None))\n",
    "model.add(Dense(16, activation=None))\n",
    "model.add(Dense(4, activation=\"softmax\"))"
   ]
  },
  {
   "cell_type": "code",
   "execution_count": 6,
   "metadata": {},
   "outputs": [
    {
     "name": "stdout",
     "output_type": "stream",
     "text": [
      "Model: \"snake_model\"\n",
      "_________________________________________________________________\n",
      "Layer (type)                 Output Shape              Param #   \n",
      "=================================================================\n",
      "dense (Dense)                (None, 1024)              1049600   \n",
      "_________________________________________________________________\n",
      "dense_1 (Dense)              (None, 16)                16400     \n",
      "_________________________________________________________________\n",
      "dense_2 (Dense)              (None, 4)                 68        \n",
      "=================================================================\n",
      "Total params: 1,066,068\n",
      "Trainable params: 1,066,068\n",
      "Non-trainable params: 0\n",
      "_________________________________________________________________\n"
     ]
    }
   ],
   "source": [
    "model.compile(optimizer=\"adam\", run_eagerly=True)\n",
    "model.summary()"
   ]
  },
  {
   "cell_type": "code",
   "execution_count": 7,
   "metadata": {},
   "outputs": [],
   "source": [
    "import logging\n",
    "logging.basicConfig(format=\"%(asctime)s || %(message)\",\n",
    "                    level=logging.DEBUG)"
   ]
  },
  {
   "cell_type": "code",
   "execution_count": 8,
   "metadata": {},
   "outputs": [
    {
     "data": {
      "text/plain": [
       "(1, 1024)"
      ]
     },
     "execution_count": 8,
     "metadata": {},
     "output_type": "execute_result"
    }
   ],
   "source": [
    "feeder.feed.__next__()[0].shape"
   ]
  },
  {
   "cell_type": "code",
   "execution_count": 9,
   "metadata": {},
   "outputs": [
    {
     "name": "stdout",
     "output_type": "stream",
     "text": [
      "Epoch 1/3\n",
      "100/100 [==============================] - 1s 8ms/step - mean_score: 1.4034 - mean_length: 2.0000\n",
      "Epoch 2/3\n",
      "100/100 [==============================] - 1s 8ms/step - mean_score: 1.5158 - mean_length: 2.0000\n",
      "Epoch 3/3\n",
      "100/100 [==============================] - 1s 8ms/step - mean_score: 1.4851 - mean_length: 2.0000\n"
     ]
    }
   ],
   "source": [
    "from keras.callbacks import ModelCheckpoint\n",
    "\n",
    "history = model.fit(x=feeder.feed,\n",
    "    epochs=3,\n",
    "    verbose=1,\n",
    "    callbacks=[ModelCheckpoint(\"models/epoch_{epoch}.h5\", verbose=False)],\n",
    "    steps_per_epoch=100,\n",
    ")"
   ]
  },
  {
   "cell_type": "code",
   "execution_count": 10,
   "metadata": {},
   "outputs": [
    {
     "ename": "FileNotFoundError",
     "evalue": "[Errno 2] No such file or directory: 'models/history.pkl'",
     "output_type": "error",
     "traceback": [
      "\u001b[1;31m---------------------------------------------------------------------------\u001b[0m",
      "\u001b[1;31mFileNotFoundError\u001b[0m                         Traceback (most recent call last)",
      "\u001b[1;32m<ipython-input-10-6710ee962b07>\u001b[0m in \u001b[0;36m<module>\u001b[1;34m\u001b[0m\n\u001b[1;32m----> 1\u001b[1;33m \u001b[1;32mwith\u001b[0m \u001b[0mopen\u001b[0m\u001b[1;33m(\u001b[0m\u001b[1;34m\"models/history.pkl\"\u001b[0m\u001b[1;33m,\u001b[0m \u001b[1;34m\"wb\"\u001b[0m\u001b[1;33m)\u001b[0m \u001b[1;32mas\u001b[0m \u001b[0mfout\u001b[0m\u001b[1;33m:\u001b[0m\u001b[1;33m\u001b[0m\u001b[1;33m\u001b[0m\u001b[0m\n\u001b[0m\u001b[0;32m      2\u001b[0m     \u001b[0mpkl\u001b[0m\u001b[1;33m.\u001b[0m\u001b[0mdump\u001b[0m\u001b[1;33m(\u001b[0m\u001b[0mhistory\u001b[0m\u001b[1;33m.\u001b[0m\u001b[0mhistory\u001b[0m\u001b[1;33m,\u001b[0m \u001b[0mfout\u001b[0m\u001b[1;33m)\u001b[0m\u001b[1;33m\u001b[0m\u001b[1;33m\u001b[0m\u001b[0m\n",
      "\u001b[1;31mFileNotFoundError\u001b[0m: [Errno 2] No such file or directory: 'models/history.pkl'"
     ]
    }
   ],
   "source": [
    "with open(\"models/history.pkl\", \"wb\") as fout:\n",
    "    pkl.dump(history.history, fout)"
   ]
  }
 ],
 "metadata": {
  "kernelspec": {
   "display_name": "Python 3",
   "language": "python",
   "name": "python3"
  },
  "language_info": {
   "codemirror_mode": {
    "name": "ipython",
    "version": 3
   },
   "file_extension": ".py",
   "mimetype": "text/x-python",
   "name": "python",
   "nbconvert_exporter": "python",
   "pygments_lexer": "ipython3",
   "version": "3.8.6rc1"
  }
 },
 "nbformat": 4,
 "nbformat_minor": 4
}
