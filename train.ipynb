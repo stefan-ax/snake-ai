{
 "cells": [
  {
   "cell_type": "code",
   "execution_count": 10,
   "metadata": {},
   "outputs": [],
   "source": [
    "import tensorflow as tf\n",
    "import keras\n",
    "from keras.layers import Dense, Dropout, Input\n",
    "from keras.models import Sequential"
   ]
  },
  {
   "cell_type": "code",
   "execution_count": 51,
   "metadata": {},
   "outputs": [],
   "source": [
    "import os\n",
    "\n",
    "VIRTUAL_HEIGHT = 6 # os.environ[\"VIRTUAL_HEIGHT\"]\n",
    "VIRTUAL_WIDTH = 6 # os.environ[\"VIRTUAL_WIDTH\"]\n",
    "DIM = VIRTUAL_WIDTH * VIRTUAL_HEIGHT\n",
    "BATCH_SIZE = 16\n",
    "MOVE_CODE = {0:\"right\", 1:\"left\", 2:\"up\", 3:\"down\"}"
   ]
  },
  {
   "cell_type": "markdown",
   "metadata": {},
   "source": [
    "## Data stuff"
   ]
  },
  {
   "cell_type": "code",
   "execution_count": 12,
   "metadata": {},
   "outputs": [],
   "source": [
    "from glob import glob\n",
    "from objects import Table, Food, Snake\n",
    "import pickle as pkl\n",
    "def load_dataset(folder_path=\"dataset\", maximum=None):\n",
    "    paths = glob(folder_path + \"/*\")\n",
    "\n",
    "    games = []\n",
    "    for path in paths[:maximum if maximum else len(paths)]:\n",
    "        with open(path, \"rb\") as fin:\n",
    "            table = pkl.load(fin)\n",
    "            games.append(table)\n",
    "            \n",
    "    return games\n",
    "\n",
    "init_games = load_dataset(maximum=None)"
   ]
  },
  {
   "cell_type": "code",
   "execution_count": 14,
   "metadata": {},
   "outputs": [
    {
     "data": {
      "text/plain": [
       "100"
      ]
     },
     "execution_count": 14,
     "metadata": {},
     "output_type": "execute_result"
    }
   ],
   "source": [
    "len(init_games)"
   ]
  },
  {
   "cell_type": "markdown",
   "metadata": {},
   "source": [
    "## Model"
   ]
  },
  {
   "cell_type": "code",
   "execution_count": 29,
   "metadata": {},
   "outputs": [],
   "source": [
    "import random\n",
    "import numpy as np\n",
    "class TrainFeeder:\n",
    "    def __init__(self, init_games, n=BATCH_SIZE):\n",
    "        assert len(init_games) >= n\n",
    "        self.init_games = init_games\n",
    "        self.games = random.choices(self.init_games, k=n)\n",
    "    \n",
    "    def feed(self):\n",
    "        vectors = [game.table.ravel() for game in self.games]\n",
    "        for vector in vectors:\n",
    "            yield vector\n",
    "            \n",
    "    def apply_moves(self, directions: list):\n",
    "        results = []\n",
    "        for idx, direction in enumerate(directions):\n",
    "            result = self.games[idx].snake.move(direction, return_state=True)\n",
    "            results.append(result)\n",
    "            \n",
    "            if result == -1:\n",
    "                # Reset the game\n",
    "                self.games[idx] = random.choice(self.init_games)\n",
    "            \n",
    "        return np.array(results)\n",
    "    \n",
    "feeder = TrainFeeder(init_games=init_games, n=2)"
   ]
  },
  {
   "cell_type": "code",
   "execution_count": 44,
   "metadata": {},
   "outputs": [
    {
     "data": {
      "text/plain": [
       "[array([[0., 0., 0., 0., 0., 0.],\n",
       "        [1., 1., 0., 2., 0., 0.],\n",
       "        [0., 0., 0., 0., 0., 0.],\n",
       "        [0., 0., 0., 0., 0., 0.],\n",
       "        [0., 0., 0., 0., 0., 0.],\n",
       "        [0., 0., 0., 0., 0., 0.]]),\n",
       " array([[0., 0., 0., 0., 0., 0.],\n",
       "        [0., 0., 1., 1., 0., 0.],\n",
       "        [0., 2., 0., 0., 0., 0.],\n",
       "        [0., 0., 0., 0., 0., 0.],\n",
       "        [0., 0., 0., 0., 0., 0.],\n",
       "        [0., 0., 0., 0., 0., 0.]])]"
      ]
     },
     "execution_count": 44,
     "metadata": {},
     "output_type": "execute_result"
    }
   ],
   "source": [
    "feeder.games"
   ]
  },
  {
   "cell_type": "code",
   "execution_count": 43,
   "metadata": {},
   "outputs": [
    {
     "name": "stdout",
     "output_type": "stream",
     "text": [
      "You lost\n",
      "You lost\n"
     ]
    },
    {
     "data": {
      "text/plain": [
       "array([-1, -1])"
      ]
     },
     "execution_count": 43,
     "metadata": {},
     "output_type": "execute_result"
    }
   ],
   "source": [
    "feeder.apply_moves([\"right\", \"right\"])"
   ]
  },
  {
   "cell_type": "code",
   "execution_count": null,
   "metadata": {},
   "outputs": [],
   "source": [
    "def loss_fct(model, y_true=None, y_pred):\n",
    "    global feeder\n",
    "    \n",
    "    moves = [MOVE_CODE[code] for code in np.argmax(y_pred, axis=1)]\n",
    "    y_pred = feeder.apply_moves(moves)\n",
    "    \n",
    "    # Change the values inside y_pred because\n",
    "    # it contains 1 if it is success and -1 if failure\n",
    "    # and we want to minimize the loss\n",
    "    y_pred = - y_pred\n",
    "    \n",
    "    return tf.sum(y_pred)"
   ]
  },
  {
   "cell_type": "code",
   "execution_count": 11,
   "metadata": {},
   "outputs": [],
   "source": [
    "model = Sequential()\n",
    "model.add(Input((DIM, )))\n",
    "model.add(Dense(64))\n",
    "model.add(Dense(4, activation=\"softmax\")) #"
   ]
  },
  {
   "cell_type": "code",
   "execution_count": 23,
   "metadata": {
    "collapsed": true,
    "jupyter": {
     "outputs_hidden": true
    }
   },
   "outputs": [
    {
     "ename": "NameError",
     "evalue": "name 'model' is not defined",
     "output_type": "error",
     "traceback": [
      "\u001b[1;31m---------------------------------------------------------------------------\u001b[0m",
      "\u001b[1;31mNameError\u001b[0m                                 Traceback (most recent call last)",
      "\u001b[1;32m<ipython-input-23-2f5fb17a608c>\u001b[0m in \u001b[0;36m<module>\u001b[1;34m\u001b[0m\n\u001b[1;32m----> 1\u001b[1;33m \u001b[0mmodel\u001b[0m\u001b[1;33m.\u001b[0m\u001b[0mcompile\u001b[0m\u001b[1;33m(\u001b[0m\u001b[0moptimizer\u001b[0m\u001b[1;33m=\u001b[0m\u001b[1;34m\"adam\"\u001b[0m\u001b[1;33m,\u001b[0m \u001b[0mloss\u001b[0m\u001b[1;33m=\u001b[0m\u001b[0mloss_fct\u001b[0m\u001b[1;33m)\u001b[0m\u001b[1;33m\u001b[0m\u001b[1;33m\u001b[0m\u001b[0m\n\u001b[0m\u001b[0;32m      2\u001b[0m \u001b[0mmodel\u001b[0m\u001b[1;33m.\u001b[0m\u001b[0msummary\u001b[0m\u001b[1;33m(\u001b[0m\u001b[1;33m)\u001b[0m\u001b[1;33m\u001b[0m\u001b[1;33m\u001b[0m\u001b[0m\n",
      "\u001b[1;31mNameError\u001b[0m: name 'model' is not defined"
     ]
    }
   ],
   "source": [
    "model.compile(optimizer=\"adam\", loss=loss_fct)\n",
    "model.summary()"
   ]
  },
  {
   "cell_type": "code",
   "execution_count": null,
   "metadata": {},
   "outputs": [],
   "source": [
    "# Add callbacks\n",
    "\n",
    "model.fit(x=feeder.feed,\n",
    "    epochs=18,\n",
    "    verbose=1,\n",
    "    callbacks=None,\n",
    "    validation_split=0.2\n",
    ")"
   ]
  }
 ],
 "metadata": {
  "kernelspec": {
   "display_name": "Python 3",
   "language": "python",
   "name": "python3"
  },
  "language_info": {
   "codemirror_mode": {
    "name": "ipython",
    "version": 3
   },
   "file_extension": ".py",
   "mimetype": "text/x-python",
   "name": "python",
   "nbconvert_exporter": "python",
   "pygments_lexer": "ipython3",
   "version": "3.8.6rc1"
  }
 },
 "nbformat": 4,
 "nbformat_minor": 4
}
