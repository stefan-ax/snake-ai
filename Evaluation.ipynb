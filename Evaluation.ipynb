{
 "cells": [
  {
   "cell_type": "code",
   "execution_count": 1,
   "metadata": {},
   "outputs": [],
   "source": [
    "import tensorflow as tf\n",
    "import keras\n",
    "import keras.backend as K\n",
    "from keras.layers import Dense, Dropout, Input\n",
    "from keras.models import Sequential"
   ]
  },
  {
   "cell_type": "code",
   "execution_count": 2,
   "metadata": {},
   "outputs": [],
   "source": [
    "import os\n",
    "VIRTUAL_HEIGHT = int(os.environ[\"VIRTUAL_HEIGHT\"])\n",
    "VIRTUAL_WIDTH = int(os.environ[\"VIRTUAL_WIDTH\"])\n",
    "DIM = VIRTUAL_WIDTH * VIRTUAL_HEIGHT"
   ]
  },
  {
   "cell_type": "code",
   "execution_count": 3,
   "metadata": {},
   "outputs": [],
   "source": [
    "score_metric = keras.metrics.Mean(name=\"score\")\n",
    "cce_loss = keras.losses.CategoricalCrossentropy()\n",
    "\n",
    "class SnakeModel(keras.Sequential):\n",
    "    def train_step(self, data):\n",
    "        x, y_true, idx = data\n",
    "        \n",
    "        with tf.GradientTape() as tape:\n",
    "            y_pred = self(x, training=True) # Forward pass\n",
    "            \n",
    "            # Compute loss\n",
    "            loss = cce_loss(y_true, y_pred)\n",
    "        \n",
    "        # Move \n",
    "        global feeder\n",
    "        predicted_direction = MOVE_CODE[y_pred.numpy().argmax()]\n",
    "        score = feeder.apply_move(predicted_direction, int(idx))\n",
    "        \n",
    "        # Compute gradients and update weights\n",
    "        trainable_vars = self.trainable_variables\n",
    "        gradients = tape.gradient(loss, trainable_vars)\n",
    "        self.optimizer.apply_gradients(zip(gradients, trainable_vars))\n",
    "        \n",
    "        # Compute the metric score here\n",
    "        score_metric.update_state(loss)\n",
    "        \n",
    "        return {\"mean_score\": score_metric.result()}\n",
    "    \n",
    "    @property\n",
    "    def metrics(self):\n",
    "        return [score_metric]\n",
    "\n",
    "model = SnakeModel()\n",
    "model.add(Input(shape=(DIM, )))\n",
    "model.add(Dense(DIM, activation=None))\n",
    "model.add(Dense(16, activation=None))\n",
    "model.add(Dense(4, activation=\"softmax\"))"
   ]
  },
  {
   "cell_type": "code",
   "execution_count": 4,
   "metadata": {},
   "outputs": [],
   "source": [
    "model.load_weights(\"models/epoch_1.h5\")"
   ]
  },
  {
   "cell_type": "code",
   "execution_count": 5,
   "metadata": {},
   "outputs": [
    {
     "name": "stdout",
     "output_type": "stream",
     "text": [
      "Loaded 500 games\n"
     ]
    }
   ],
   "source": [
    "from glob import glob\n",
    "from objects import Table, Food, Snake\n",
    "import pickle as pkl\n",
    "def load_dataset(folder_path=\"dataset\", maximum=None):\n",
    "    paths = glob(folder_path + \"/*\")\n",
    "\n",
    "    games = []\n",
    "    for path in paths[:maximum if maximum else len(paths)]:\n",
    "        with open(path, \"rb\") as fin:\n",
    "            table = pkl.load(fin)\n",
    "            games.append(table)\n",
    "            \n",
    "    return games\n",
    "\n",
    "init_games = load_dataset(maximum=None)\n",
    "print(f\"Loaded {len(init_games)} games\")"
   ]
  },
  {
   "cell_type": "code",
   "execution_count": 6,
   "metadata": {},
   "outputs": [
    {
     "data": {
      "text/plain": [
       "array([[0.42262495, 0.2956784 , 0.09109779, 0.19059892]], dtype=float32)"
      ]
     },
     "execution_count": 6,
     "metadata": {},
     "output_type": "execute_result"
    }
   ],
   "source": [
    "model.predict(init_games[0].table.ravel().reshape(1, -1))"
   ]
  }
 ],
 "metadata": {
  "kernelspec": {
   "display_name": "Python 3",
   "language": "python",
   "name": "python3"
  },
  "language_info": {
   "codemirror_mode": {
    "name": "ipython",
    "version": 3
   },
   "file_extension": ".py",
   "mimetype": "text/x-python",
   "name": "python",
   "nbconvert_exporter": "python",
   "pygments_lexer": "ipython3",
   "version": "3.8.6rc1"
  }
 },
 "nbformat": 4,
 "nbformat_minor": 4
}
